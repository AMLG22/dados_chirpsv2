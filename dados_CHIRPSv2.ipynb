{
  "cells": [
    {
      "cell_type": "markdown",
      "metadata": {
        "id": "view-in-github",
        "colab_type": "text"
      },
      "source": [
        "<a href=\"https://colab.research.google.com/github/AMLG22/dados_chirpsv2/blob/main/dados_CHIRPSv2.ipynb\" target=\"_parent\"><img src=\"https://colab.research.google.com/assets/colab-badge.svg\" alt=\"Open In Colab\"/></a>"
      ]
    },
    {
      "cell_type": "markdown",
      "source": [
        "# Bibiotecas"
      ],
      "metadata": {
        "id": "GIiX2BMdbPP6"
      }
    },
    {
      "cell_type": "code",
      "execution_count": null,
      "metadata": {
        "id": "AEB_FeTn6bYt",
        "colab": {
          "base_uri": "https://localhost:8080/"
        },
        "outputId": "a2e2a39b-6152-42d6-ea05-a34868a7e15d"
      },
      "outputs": [
        {
          "output_type": "stream",
          "name": "stderr",
          "text": [
            "/usr/local/lib/python3.10/dist-packages/proplot/__init__.py:73: ProplotWarning: Rebuilding font cache. This usually happens after installing or updating proplot.\n",
            "  register_fonts(default=True)\n"
          ]
        },
        {
          "output_type": "stream",
          "name": "stdout",
          "text": [
            "Downloading salem-sample-data...\n"
          ]
        }
      ],
      "source": [
        "import urllib.request\n",
        "import xarray as xr\n",
        "\n",
        "import pyproj\n",
        "import salem\n",
        "import rasterio as roi\n",
        "\n",
        "# para suprimir todos os avisos dos códigos\n",
        "import warnings\n",
        "warnings.filterwarnings(\"ignore\")"
      ]
    },
    {
      "cell_type": "markdown",
      "source": [
        "# Ficheiro .shp para Mascarar a area de Interesse"
      ],
      "metadata": {
        "id": "rXZy5BF2bdYW"
      }
    },
    {
      "cell_type": "code",
      "execution_count": null,
      "metadata": {
        "id": "SEAm3gxS7ANm"
      },
      "outputs": [],
      "source": [
        "shp = salem.read_shapefile('caminho_do_ficheiro')"
      ]
    },
    {
      "cell_type": "markdown",
      "metadata": {
        "id": "p-Hug1ES7PWT"
      },
      "source": [
        "# Dados CHIRPSv2\n",
        "- Um loop com a range do intervalo de dados necessario..."
      ]
    },
    {
      "cell_type": "code",
      "execution_count": null,
      "metadata": {
        "id": "KA_ndtQe51nD"
      },
      "outputs": [],
      "source": [
        "for yr in range(1981, 2024):\n",
        "    url = f'https://data.chc.ucsb.edu/products/CHIRPS-2.0/global_daily/netcdf/p05/chirps-v2.0.{yr}.days_p05.nc'\n",
        "    savename = url.split('/')[-1]\n",
        "    urllib.request.urlretrieve(url, savename)"
      ]
    },
    {
      "cell_type": "markdown",
      "source": [
        "- Abrir e manipular..."
      ],
      "metadata": {
        "id": "CXv21LUtdx0H"
      }
    },
    {
      "cell_type": "code",
      "source": [
        "# leitura...\n",
        "dados = xr.open_mfdataset('chirps-v2.0.*.days_p05.nc', concat_dim='time', combine='nested')\n",
        "\n",
        "# selecionar time, lat e lon...\n",
        "clima_81_10 = dados.sel(longitude=slice(0, 52),\n",
        "                        latitude=slice(-35, 6),\n",
        "                        time=slice('1981-01-01', '2010-12-01'))\n",
        "\n",
        "# agrupamento e media climatologica...\n",
        "clima_81_10 = clima_81_10.groupby('time.year').sum('time')\n",
        "\n",
        "clima_81_10_avg = clima_81_10.mean('year')"
      ],
      "metadata": {
        "id": "_5-6xK-Wf03l"
      },
      "execution_count": null,
      "outputs": []
    }
  ],
  "metadata": {
    "colab": {
      "provenance": [],
      "mount_file_id": "1XdUubMd8Vru3ZWF_bfNWrtCaGL0ChZ3y",
      "authorship_tag": "ABX9TyNydwLRA8O1XdHS8KFEAgmU",
      "include_colab_link": true
    },
    "kernelspec": {
      "display_name": "Python 3",
      "name": "python3"
    },
    "language_info": {
      "name": "python"
    }
  },
  "nbformat": 4,
  "nbformat_minor": 0
}